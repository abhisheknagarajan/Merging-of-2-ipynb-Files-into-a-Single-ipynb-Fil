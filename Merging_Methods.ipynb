{
 "cells": [
  {
   "cell_type": "markdown",
   "metadata": {},
   "source": [
    "# Merging Methods (2 IPYNB Notebooks)"
   ]
  },
  {
   "cell_type": "markdown",
   "metadata": {},
   "source": [
    "### Two Jupyter notebooks named Monday.ipynb file and Tuesday.ipynb file, merged in one file called midweek.ipynb file."
   ]
  },
  {
   "cell_type": "markdown",
   "metadata": {},
   "source": [
    "### First Method"
   ]
  },
  {
   "cell_type": "code",
   "execution_count": 2,
   "metadata": {},
   "outputs": [],
   "source": [
    "!nbmerge Monday.ipynb Tuesday.ipynb > merged1.ipynb"
   ]
  },
  {
   "cell_type": "markdown",
   "metadata": {},
   "source": [
    "### Second Method\n"
   ]
  },
  {
   "cell_type": "code",
   "execution_count": 4,
   "metadata": {},
   "outputs": [
    {
     "name": "stdout",
     "output_type": "stream",
     "text": [
      "['Monday.ipynb', 'Tuesday.ipynb']\n",
      "Generated file is: midweek2.ipynb\n"
     ]
    }
   ],
   "source": [
    "#COMBINING 2 .ipynb FILES INTO ONE (.ipynb file named midweek)\n",
    "\n",
    "import json\n",
    "import os\n",
    "\n",
    "merge_files=['Monday.ipynb','Tuesday.ipynb']\n",
    "print(merge_files)\n",
    "\n",
    "def combine_files(merge_files,combined_filename):\n",
    "    \n",
    "    with open(merge_files[0],mode='r',encoding='utf-8') as f:\n",
    "        a=json.load(f)\n",
    "        \n",
    "    with open(merge_files[1],mode='r',encoding='utf-8') as f:\n",
    "        b=json.load(f)\n",
    "        a['cells'].extend(b['cells'])\n",
    "    \n",
    "    with open(combined_filename,mode='w',encoding='utf-8') as f:\n",
    "        json.dump(a,f)\n",
    "    print(f'Generated file is: {combined_filename}')\n",
    "         \n",
    "\n",
    "combine_files(merge_files,'midweek2.ipynb')"
   ]
  },
  {
   "cell_type": "markdown",
   "metadata": {},
   "source": [
    "### Third Method"
   ]
  },
  {
   "cell_type": "code",
   "execution_count": 5,
   "metadata": {},
   "outputs": [],
   "source": [
    "import nbmerge\n",
    "import nbformat\n",
    "ml=[r\"monday.ipynb\",r\"tuesday.ipynb\"]\n",
    "nb1=nbmerge.merge_notebooks('',file_paths=ml)\n",
    "nbmerge.write_notebook(nb1,'midweek3.ipynb',version=nbformat.NO_CONVERT)\n"
   ]
  }
 ],
 "metadata": {
  "kernelspec": {
   "display_name": "Python 3",
   "language": "python",
   "name": "python3"
  },
  "language_info": {
   "codemirror_mode": {
    "name": "ipython",
    "version": 3
   },
   "file_extension": ".py",
   "mimetype": "text/x-python",
   "name": "python",
   "nbconvert_exporter": "python",
   "pygments_lexer": "ipython3",
   "version": "3.8.5"
  }
 },
 "nbformat": 4,
 "nbformat_minor": 4
}
